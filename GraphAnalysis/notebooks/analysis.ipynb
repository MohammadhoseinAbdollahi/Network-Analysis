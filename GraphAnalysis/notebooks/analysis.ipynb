{
 "cells": [
  {
   "cell_type": "markdown",
   "metadata": {},
   "source": [
    "## Loading Dataset\n"
   ]
  },
  {
   "cell_type": "code",
   "metadata": {
    "jupyter": {
     "is_executing": true
    },
    "ExecuteTime": {
     "start_time": "2024-06-12T15:21:53.107112Z"
    }
   },
   "source": [
    "import networkx as nx\n",
    "import json\n",
    "import matplotlib.pyplot as plt\n",
    "\n",
    "# Load edges from the .edges file\n",
    "edges_file = '../data/soc-gemsec-HR.edges'\n",
    "edges = []\n",
    "with open(edges_file, 'r') as f:\n",
    "    for line in f:\n",
    "        src, dst = map(float, line.split(','))\n",
    "        edges.append((src, dst))\n",
    "\n",
    "# Load node metadata from the .json file\n",
    "metadata_file = '../data/soc-gemsec-HR.json'\n",
    "with open(metadata_file, 'r') as f:\n",
    "    node_metadata = json.load(f)\n",
    "\n",
    "# Create a graph and add edges\n",
    "G = nx.Graph()\n",
    "G.add_edges_from(edges)\n",
    "\n",
    "# Add metadata to nodes\n",
    "for node, genres in node_metadata.items():\n",
    "    G.nodes[int(node)]['genres'] = genres\n",
    "\n",
    "# Basic info\n",
    "print(f\"Number of nodes: {G.number_of_nodes()}\")\n",
    "print(f\"Number of edges: {G.number_of_edges()}\")\n",
    "\n",
    "# Compute degree distribution\n",
    "degree_sequence = sorted([d for n, d in G.degree()], reverse=True)\n",
    "plt.figure()\n",
    "plt.hist(degree_sequence, bins=100)\n",
    "plt.title(\"Degree Distribution\")\n",
    "plt.xlabel(\"Degree\")\n",
    "plt.ylabel(\"Frequency\")\n",
    "plt.show()\n",
    "\n",
    "# Compute centrality measures\n",
    "degree_centrality = nx.degree_centrality(G)\n",
    "betweenness_centrality = nx.betweenness_centrality(G)\n",
    "closeness_centrality = nx.closeness_centrality(G)\n",
    "eigenvector_centrality = nx.eigenvector_centrality(G)\n",
    "\n",
    "# Average path length\n",
    "avg_path_length = nx.average_shortest_path_length(G)\n",
    "print(f\"Average Path Length: {avg_path_length}\")\n",
    "\n",
    "# Clustering coefficient\n",
    "clustering_coefficient = nx.average_clustering(G)\n",
    "print(f\"Average Clustering Coefficient: {clustering_coefficient}\")\n",
    "\n",
    "# Density\n",
    "density = nx.density(G)\n",
    "print(f\"Density: {density}\")\n",
    "\n",
    "# Assortativity\n",
    "assortativity = nx.degree_assortativity_coefficient(G)\n",
    "print(f\"Assortativity: {assortativity}\")\n",
    "\n",
    "# Visualize the graph (small sample for readability)\n",
    "small_G = G.subgraph(list(G.nodes)[:100])\n",
    "pos = nx.spring_layout(small_G)\n",
    "plt.figure(figsize=(12, 12))\n",
    "nx.draw(small_G, pos, node_size=20, node_color='blue', edge_color='gray')\n",
    "plt.title(\"Visualization of a Subgraph\")\n",
    "plt.show()\n"
   ],
   "outputs": [
    {
     "name": "stdout",
     "output_type": "stream",
     "text": [
      "Number of nodes: 54573\n",
      "Number of edges: 498202\n"
     ]
    },
    {
     "data": {
      "text/plain": [
       "<Figure size 640x480 with 1 Axes>"
      ],
      "image/png": "[encoded data removed]"
     },
     "metadata": {},
     "output_type": "display_data"
    }
   ],
   "execution_count": null
  },
  {
   "metadata": {
    "ExecuteTime": {
     "end_time": "2024-06-12T15:18:38.744608Z",
     "start_time": "2024-06-12T15:18:38.735732Z"
    }
   },
   "cell_type": "code",
   "source": "",
   "outputs": [],
   "execution_count": 10
  },
  {
   "metadata": {
    "ExecuteTime": {
     "end_time": "2024-06-12T14:57:25.189559Z",
     "start_time": "2024-06-12T14:57:25.183944Z"
    }
   },
   "cell_type": "code",
   "source": "",
   "outputs": [],
   "execution_count": 2
  },
  {
   "metadata": {},
   "cell_type": "code",
   "outputs": [],
   "execution_count": null,
   "source": ""
  }
 ],
 "metadata": {
  "kernelspec": {
   "display_name": "Python 3",
   "language": "python",
   "name": "python3"
  },
  "language_info": {
   "codemirror_mode": {
    "name": "ipython",
    "version": 3
   },
   "file_extension": ".py",
   "mimetype": "text/x-python",
   "name": "python",
   "nbconvert_exporter": "python",
   "pygments_lexer": "ipython3",
   "version": "3.12.0"
  }
 },
 "nbformat": 4,
 "nbformat_minor": 2
}
