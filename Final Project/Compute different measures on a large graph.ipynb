{
 "cells": [
  {
   "cell_type": "markdown",
   "metadata": {},
   "source": [
    "## Loading Dataset\n"
   ]
  },
  {
   "cell_type": "code",
   "execution_count": 9,
   "metadata": {},
   "outputs": [
    {
     "name": "stdout",
     "output_type": "stream",
     "text": [
      "Number of nodes: 54573\n",
      "Number of edges: 498202\n"
     ]
    }
   ],
   "source": [
    "import networkx as nx\n",
    "import matplotlib.pyplot as plt\n",
    "\n",
    "\n",
    "# Load the dataset\n",
    "graph = nx.read_edgelist('soc-gemsec-HR.edges', delimiter=',')\n",
    "\n",
    "# Print the number of nodes\n",
    "print(\"Number of nodes:\", graph.number_of_nodes())\n",
    "\n",
    "# Print the number of edges\n",
    "print(\"Number of edges:\", graph.number_of_edges())\n",
    "\n",
    "# # Print the diameter\n",
    "# print(\"Diameter:\", nx.diameter(graph))\n",
    "\n",
    "# # Print the adjacency list\n",
    "# print(\"Adjacency list:\")\n",
    "# for node, neighbors in graph.adjacency():\n",
    "#     print(node, list(neighbors))\n",
    "\n",
    "# # Print the edges list\n",
    "# print(\"Edges list:\", list(graph.edges()))\n",
    "\n",
    "# Draw the graph\n",
    "nx.draw(graph, with_labels=True)\n",
    "# Plot the distribution of edge degrees\n",
    "degree_sequence = [d for n, d in graph.degree()]\n",
    "plt.hist(degree_sequence, bins=10)\n",
    "plt.xlabel('Degree')\n",
    "plt.ylabel('Frequency')\n",
    "plt.title('Edge Degree Distribution')\n",
    "# Plot the distribution of path lengths\n",
    "for i in  (graph.nodes):\n",
    "    for j in (graph.nodes):\n",
    "        path_lengths = [len(path) for path in nx.all_simple_paths(graph, i,j )]\n",
    "plt.hist(path_lengths, bins=10)\n",
    "plt.xlabel('Path Length')\n",
    "plt.ylabel('Frequency')\n",
    "plt.title('Path Length Distribution')\n",
    "plt.show()"
   ]
  }
 ],
 "metadata": {
  "kernelspec": {
   "display_name": "Python 3",
   "language": "python",
   "name": "python3"
  },
  "language_info": {
   "codemirror_mode": {
    "name": "ipython",
    "version": 3
   },
   "file_extension": ".py",
   "mimetype": "text/x-python",
   "name": "python",
   "nbconvert_exporter": "python",
   "pygments_lexer": "ipython3",
   "version": "3.12.0"
  }
 },
 "nbformat": 4,
 "nbformat_minor": 2
}
