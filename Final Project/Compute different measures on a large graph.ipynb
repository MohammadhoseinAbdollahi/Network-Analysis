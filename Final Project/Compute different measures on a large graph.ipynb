{
 "cells": [
  {
   "cell_type": "markdown",
   "metadata": {},
   "source": [
    "## Loading Dataset\n"
   ]
  },
  {
   "cell_type": "code",
   "execution_count": 12,
   "metadata": {},
   "outputs": [
    {
     "name": "stdout",
     "output_type": "stream",
     "text": [
      "Number of nodes: 54573\n",
      "Number of edges: 498202\n"
     ]
    }
   ],
   "source": [
    "import networkx as nx\n",
    "import matplotlib.pyplot as plt\n",
    "\n",
    "# Load the dataset\n",
    "graph = nx.read_edgelist('soc-gemsec-HR.edges', delimiter=',')\n",
    "\n",
    "# Print the number of nodes\n",
    "print(\"Number of nodes:\", graph.number_of_nodes())\n",
    "\n",
    "# Print the number of edges\n",
    "print(\"Number of edges:\", graph.number_of_edges())\n",
    "\n",
    "# Draw the graph\n",
    "nx.draw(graph, with_labels=False)\n",
    "plt.show()\n",
    "\n",
    "# Compute the degree distribution\n",
    "degree_sequence = [d for n, d in graph.degree()]\n",
    "plt.hist(degree_sequence, bins=10)\n",
    "plt.xlabel('Degree')\n",
    "plt.ylabel('Frequency')\n",
    "plt.title('Edge Degree Distribution')\n",
    "plt.show()\n",
    "\n",
    "\n",
    "\n",
    "# # If you want to compute the diameter, be aware that this is expensive for large graphs\n",
    "# # diameter = nx.diameter(graph)\n",
    "# # print(\"Diameter:\", diameter)\n",
    "\n",
    "# # Compute the distribution of shortest path lengths\n",
    "# # This will be more efficient than all simple paths, but still can be slow for large graphs\n",
    "# all_shortest_path_lengths = []\n",
    "# for node in graph.nodes:\n",
    "#     lengths = dict(nx.shortest_path_length(graph, source=node)).values()\n",
    "#     all_shortest_path_lengths.extend(lengths)\n",
    "\n",
    "# plt.hist(all_shortest_path_lengths, bins=10)\n",
    "# plt.xlabel('Path Length')\n",
    "# plt.ylabel('Frequency')\n",
    "# plt.title('Shortest Path Length Distribution')\n",
    "# plt.show()\n"
   ]
  }
 ],
 "metadata": {
  "kernelspec": {
   "display_name": "Python 3",
   "language": "python",
   "name": "python3"
  },
  "language_info": {
   "codemirror_mode": {
    "name": "ipython",
    "version": 3
   },
   "file_extension": ".py",
   "mimetype": "text/x-python",
   "name": "python",
   "nbconvert_exporter": "python",
   "pygments_lexer": "ipython3",
   "version": "3.12.0"
  }
 },
 "nbformat": 4,
 "nbformat_minor": 2
}
